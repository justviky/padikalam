{
 "cells": [
  {
   "cell_type": "code",
   "execution_count": null,
   "metadata": {},
   "outputs": [],
   "source": [
    "import requests\n",
    "import pandas as pd\n",
    "import getpass"
   ]
  },
  {
   "cell_type": "code",
   "execution_count": null,
   "metadata": {},
   "outputs": [],
   "source": [
    "#Input Data - Login Details, game week required, league id required\n",
    "email = getpass.getpass('Login_email:')\n",
    "pswd = getpass.getpass('Password:')\n",
    "gw = int(getpass.getpass('Gameweek:'))\n",
    "league_id = getpass.getpass('League_id:')"
   ]
  },
  {
   "cell_type": "code",
   "execution_count": null,
   "metadata": {},
   "outputs": [],
   "source": [
    "#Login into the FPL API and get League details\n",
    "payload = {\"login\": email, \"password\": pswd,\n",
    "           \"app\": \"plfpl-web\", \"redirect_uri\": \"https://fantasy.premierleague.com/\"}\n",
    "\n",
    "with requests.Session() as session:\n",
    "    session.post(\"https://users.premierleague.com/accounts/login/\", data=payload)\n",
    "    league_json = session.get(\"https://fantasy.premierleague.com/api/leagues-classic/\"+str(league_id)+\"/standings/\").json()\n",
    "\n",
    "\n",
    "league_entries = []\n",
    "league_player_names = []\n",
    "\n",
    "for entry in range(len(league_json[\"standings\"][\"results\"])):\n",
    "    league_entries.append(league_json[\"standings\"][\"results\"][entry][\"entry\"])\n",
    "    league_player_names.append(league_json[\"standings\"][\"results\"][entry][\"player_name\"])\n",
    "    \n",
    "print('The league has ' + str(len(league_entries)) + ' Players')\n",
    "print(*league_player_names, sep = \"\\n\")\n"
   ]
  },
  {
   "cell_type": "code",
   "execution_count": null,
   "metadata": {},
   "outputs": [],
   "source": [
    "#Position for a given element - Basically player id - position id mapping\n",
    "with requests.Session() as session:\n",
    "        session.post(\"https://users.premierleague.com/accounts/login/\", data=payload)\n",
    "        json_return_all_boot = session.get(\"https://fantasy.premierleague.com/api/bootstrap-static/\").json()\n",
    "\n",
    "\n",
    "element_df = pd.DataFrame(json_return_all_boot[\"elements\"])[[\"id\",\"element_type\"]]\n",
    "\n",
    "\n",
    "#Get the points of each player id - for the given gameweek\n",
    "with requests.Session() as session:\n",
    "        session.post(\"https://users.premierleague.com/accounts/login/\", data=payload)\n",
    "        json_return_live = session.get(\"https://fantasy.premierleague.com/api/event/\" + str(gw) + \"/live/\").json()\n",
    "\n",
    "point_df = pd.DataFrame(columns=[\"id\",\"total_points\"])\n",
    "for x in range(len(json_return_live[\"elements\"])):\n",
    "    player_id = json_return_live[\"elements\"][x][\"id\"]\n",
    "    pts = json_return_live[\"elements\"][x][\"stats\"][\"total_points\"]\n",
    "    point_df = point_df.append(pd.DataFrame(zip([player_id],[pts]),columns=[\"id\",\"total_points\"])).reset_index(drop=True)\n",
    "\n",
    "player_point_df = pd.merge(element_df,point_df,how='left',on=['id'])\n",
    "\n",
    "print('The points scored by each player in the required FPL Gameweek has been fetched')"
   ]
  },
  {
   "cell_type": "code",
   "execution_count": null,
   "metadata": {
    "scrolled": true
   },
   "outputs": [],
   "source": [
    "#Creating an empty dataframe to append to \n",
    "final_df = pd.DataFrame()\n",
    "\n",
    "#Looping through the league entries\n",
    "i=0\n",
    "for player in league_entries:\n",
    "    \n",
    "    i=i+1\n",
    "    \n",
    "    with requests.Session() as session:\n",
    "        session.post(\"https://users.premierleague.com/accounts/login/\", data=payload)\n",
    "        json_return = session.get(\"https://fantasy.premierleague.com/api/entry/\"+str(player)+\"/history/\").json()\n",
    "    \n",
    "    dict_val = pd.DataFrame(json_return[\"current\"])\n",
    "    play_df = dict_val.loc[dict_val['event']==gw].reset_index(drop=True)\n",
    "    play_df['player_id'] = player\n",
    "    play_df['player_name'] = league_player_names[i-1]\n",
    "    play_df['gameweek'] = play_df['event'] \n",
    "    play_df['gw_points'] = play_df['points'] - play_df['event_transfers_cost']\n",
    "    play_df['value'] = play_df['value']/10\n",
    "    play_df['bank'] = play_df['bank']/10\n",
    "    \n",
    "    play_df_new = play_df[['player_name','player_id','gameweek','gw_points','points_on_bench'\n",
    "                           ,'event_transfers', 'value']].reset_index(drop=True)\n",
    "    \n",
    "    #Gives Team List in the form of elements - \n",
    "    link = 'https://fantasy.premierleague.com/api/entry/' + str(player) + '/event/' + str(gw) + '/picks/'\n",
    "    \n",
    "    with requests.Session() as session:\n",
    "            session.post(\"https://users.premierleague.com/accounts/login/\", data=payload)\n",
    "            json_return_new = session.get(link).json()\n",
    "            \n",
    "    df_picks = pd.DataFrame(json_return_new[\"picks\"])\n",
    "    \n",
    "    df_picks_new = pd.merge(df_picks,player_point_df,how='left',left_on='element', right_on='id')\n",
    "    \n",
    "    df_pos_agg = df_picks_new[df_picks_new['position']<=11][['element_type','total_points']].groupby(['element_type']).sum().reset_index()\n",
    "    \n",
    "    pos_dict ={1:'def_points',2:'def_points',3:'mid_points',4:'fwd_points'}\n",
    "    \n",
    "    df_pos_agg = df_pos_agg.replace({'element_type':pos_dict})\n",
    "    df_pos_agg = df_pos_agg.groupby(['element_type']).sum().reset_index()\n",
    "    df_pos_agg = pd.pivot_table(df_pos_agg,columns = 'element_type',values = 'total_points').reset_index(drop=True)[['def_points','mid_points','fwd_points']]\n",
    "    df_pos_agg.columns.name= None\n",
    "    \n",
    "    first_df = pd.concat([play_df_new,df_pos_agg],axis=1)\n",
    "    \n",
    "    final_df = final_df.append(first_df)\n",
    "    print(league_player_names[i-1] + ' Completed')\n",
    "\n",
    "final_df = final_df.sort_values(['player_name']).reset_index(drop=True)\n",
    "\n",
    "final_df"
   ]
  },
  {
   "cell_type": "code",
   "execution_count": null,
   "metadata": {},
   "outputs": [],
   "source": [
    "final_df.to_csv(path_or_buf = 'Gameweek '+str(gw)+'.csv', index=False)\n",
    "print('The gameweek csv file is exported to your home location')"
   ]
  }
 ],
 "metadata": {
  "kernelspec": {
   "display_name": "Python 3",
   "language": "python",
   "name": "python3"
  },
  "language_info": {
   "codemirror_mode": {
    "name": "ipython",
    "version": 3
   },
   "file_extension": ".py",
   "mimetype": "text/x-python",
   "name": "python",
   "nbconvert_exporter": "python",
   "pygments_lexer": "ipython3",
   "version": "3.7.3"
  }
 },
 "nbformat": 4,
 "nbformat_minor": 2
}
